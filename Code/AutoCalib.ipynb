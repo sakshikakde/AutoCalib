{
 "metadata": {
  "language_info": {
   "codemirror_mode": {
    "name": "ipython",
    "version": 3
   },
   "file_extension": ".py",
   "mimetype": "text/x-python",
   "name": "python",
   "nbconvert_exporter": "python",
   "pygments_lexer": "ipython3",
   "version": "3.6.9"
  },
  "orig_nbformat": 2,
  "kernelspec": {
   "name": "python3",
   "display_name": "Python 3",
   "language": "python"
  }
 },
 "nbformat": 4,
 "nbformat_minor": 2,
 "cells": [
  {
   "cell_type": "code",
   "execution_count": 1,
   "metadata": {},
   "outputs": [],
   "source": [
    "import numpy as np\n",
    "import cv2\n",
    "import scipy\n",
    "import matplotlib.pyplot as plt\n",
    "import math\n",
    "import os\n",
    "from Utils.MiscUtils import *\n",
    "from Utils.ImageUtils import *\n",
    "from Utils.MathUtils import *\n",
    "import scipy.optimize \n",
    "square_side = 12.5\n"
   ]
  },
  {
   "cell_type": "code",
   "execution_count": 2,
   "metadata": {},
   "outputs": [],
   "source": [
    "def reprojectPointsAndGetError(A, kc, all_RT, all_image_corners, world_corners):\n",
    "\n",
    "    error_mat = []\n",
    "    alpha, gamma, beta, u0, v0, k1, k2 = extractParamFromA(A, kc)\n",
    "    all_reprojected_points = []\n",
    "    for i, image_corners in enumerate(all_image_corners): # for all images\n",
    "\n",
    "        #RT for 3d world points\n",
    "        RT = all_RT[i]\n",
    "        #get ART for 2d world points\n",
    "        RT3 = np.array([RT[:,0], RT[:,1], RT[:,3]]).reshape(3,3) #review\n",
    "        RT3 = RT3.T\n",
    "        ART3 = np.dot(A, RT3)\n",
    "\n",
    "        image_total_error = 0\n",
    "        reprojected_points = []\n",
    "        for j in range(world_corners.shape[0]):\n",
    "\n",
    "            world_point_2d = world_corners[j]\n",
    "            world_point_2d_homo = np.array([world_point_2d[0], world_point_2d[1], 1]).reshape(3,1)\n",
    "            world_point_3d_homo = np.array([world_point_2d[0], world_point_2d[1], 0, 1]).reshape(4,1)\n",
    "\n",
    "            #get radius of distortion\n",
    "            XYZ = np.dot(RT, world_point_3d_homo)\n",
    "            x =  XYZ[0] / XYZ[2]\n",
    "            y = XYZ[1] / XYZ[2]\n",
    "            # x = alpha * XYZ[0] / XYZ[2] #assume gamma as 0 \n",
    "            # y = beta * XYZ[1] / XYZ[2] #assume gamma as 0\n",
    "            r = np.sqrt(x**2 + y**2) #radius of distortion\n",
    "\n",
    "            #observed image co-ordinates\n",
    "            mij = image_corners[j]\n",
    "            mij = np.array([mij[0], mij[1], 1], dtype = 'float').reshape(3,1)\n",
    "\n",
    "            #projected image co-ordinates\n",
    "            uvw = np.dot(ART3, world_point_2d_homo)\n",
    "            u = uvw[0] / uvw[2]\n",
    "            v = uvw[1] / uvw[2]\n",
    "\n",
    "            u_dash = u + (u - u0) * (k1 * r**2 + k2 * r**4)\n",
    "            v_dash = v + (v - v0) * (k1 * r**2 + k2 * r**4)\n",
    "            reprojected_points.append([u_dash, v_dash])\n",
    "\n",
    "            mij_dash = np.array([u_dash, v_dash, 1], dtype = 'float').reshape(3,1)\n",
    "\n",
    "            #get error\n",
    "            e = np.linalg.norm((mij - mij_dash), ord=2)\n",
    "            image_total_error = image_total_error + e\n",
    "        \n",
    "        all_reprojected_points.append(reprojected_points)\n",
    "        error_mat.append(image_total_error)\n",
    "    error_mat = np.array(error_mat)\n",
    "    error_average = np.sum(error_mat) / (len(all_image_corners) * world_corners.shape[0])\n",
    "    # error_reprojection = np.sqrt(error_average)\n",
    "    return error_average, all_reprojected_points\n"
   ]
  },
  {
   "cell_type": "code",
   "execution_count": 3,
   "metadata": {},
   "outputs": [],
   "source": [
    "def lossFunc(x0, init_all_RT, all_image_corners, world_corners):\n",
    "\n",
    "    A, kc = retrieveA(x0)\n",
    "    alpha, gamma, beta, u0, v0, k1, k2 = x0\n",
    "\n",
    "    error_mat = []\n",
    "\n",
    "    for i, image_corners in enumerate(all_image_corners): # for all images\n",
    "\n",
    "        #RT for 3d world points\n",
    "        RT = init_all_RT[i]\n",
    "        #get ART for 2d world points\n",
    "        RT3 = np.array([RT[:,0], RT[:,1], RT[:,3]]).reshape(3,3) #review\n",
    "        RT3 = RT3.T\n",
    "        ART3 = np.dot(A, RT3)\n",
    "\n",
    "        image_total_error = 0\n",
    "\n",
    "        for j in range(world_corners.shape[0]):\n",
    "\n",
    "            world_point_2d = world_corners[j]\n",
    "            world_point_2d_homo = np.array([world_point_2d[0], world_point_2d[1], 1]).reshape(3,1)\n",
    "            world_point_3d_homo = np.array([world_point_2d[0], world_point_2d[1], 0, 1]).reshape(4,1)\n",
    "\n",
    "            #get radius of distortion\n",
    "            XYZ = np.dot(RT, world_point_3d_homo)\n",
    "            x =  XYZ[0] / XYZ[2]\n",
    "            y = XYZ[1] / XYZ[2]\n",
    "            # x = alpha * XYZ[0] / XYZ[2] #assume gamma as 0 \n",
    "            # y = beta * XYZ[1] / XYZ[2] #assume gamma as 0\n",
    "            r = np.sqrt(x**2 + y**2) #radius of distortion\n",
    "\n",
    "            #observed image co-ordinates\n",
    "            mij = image_corners[j]\n",
    "            mij = np.array([mij[0], mij[1], 1], dtype = 'float').reshape(3,1)\n",
    "\n",
    "            #projected image co-ordinates\n",
    "            uvw = np.dot(ART3, world_point_2d_homo)\n",
    "            u = uvw[0] / uvw[2]\n",
    "            v = uvw[1] / uvw[2]\n",
    "\n",
    "            u_dash = u + (u - u0) * (k1 * r**2 + k2 * r**4)\n",
    "            v_dash = v + (v - v0) * (k1 * r**2 + k2 * r**4)\n",
    "\n",
    "            mij_dash = np.array([u_dash, v_dash, 1], dtype = 'float').reshape(3,1)\n",
    "\n",
    "            #get error\n",
    "            e = np.linalg.norm((mij - mij_dash), ord=2)\n",
    "            image_total_error = image_total_error + e\n",
    "\n",
    "        error_mat.append(image_total_error / 54)\n",
    "    \n",
    "    return np.array(error_mat)\n",
    "        "
   ]
  },
  {
   "cell_type": "code",
   "execution_count": 4,
   "metadata": {},
   "outputs": [
    {
     "output_type": "stream",
     "name": "stdout",
     "text": [
      "Loading images from  /home/sakshi/courses/CMSC733/sakshi_hw1/Data/Calibration_Imgs\n",
      "Calculating H for %d images 13\n",
      "Calculating B\n",
      "B matrix is  [ 1.50143137e-07  8.28746405e-11  1.52412974e-07 -1.14436180e-04\n",
      " -2.05856619e-04  9.99999972e-01]\n",
      "Estimated B =  [[ 1.50143137e-07  8.28746405e-11 -1.14436180e-04]\n",
      " [ 8.28746405e-11  1.52412974e-07 -2.05856619e-04]\n",
      " [-1.14436180e-04 -2.05856619e-04  9.99999972e-01]]\n",
      "Calculating A\n",
      "Initialized A =  [[ 2.05637851e+03 -1.12657749e+00  7.61435270e+02]\n",
      " [ 0.00000000e+00  2.04100889e+03  1.35023620e+03]\n",
      " [ 0.00000000e+00  0.00000000e+00  1.00000000e+00]]\n",
      "Calculating rotation and translation\n",
      "Init Kc\n",
      "Initialized kc =  [[0]\n",
      " [0]]\n"
     ]
    }
   ],
   "source": [
    "def main():\n",
    "    folder_name = \"/home/sakshi/courses/CMSC733/sakshi_hw1/Data/Calibration_Imgs\"\n",
    "    save_folder = \"/home/sakshi/courses/CMSC733/sakshi_hw1/Results/\"\n",
    "    images = loadImages(folder_name)\n",
    "    h, w = [6,9]\n",
    "    all_image_corners = getImagesPoints(images, h, w)\n",
    "    world_corners = getWorldPoints(square_side, h, w)\n",
    "\n",
    "    displayCorners(images, all_image_corners, h, w)\n",
    "\n",
    "    print(\"Calculating H for %d images\", len(images))\n",
    "    all_H_init = getAllH(all_image_corners, square_side, h, w)\n",
    "    print(\"Calculating B\")\n",
    "    B_init = getB(all_H_init)\n",
    "    print(\"Estimated B = \", B_init)\n",
    "    print(\"Calculating A\")\n",
    "    A_init = getA(B_init)\n",
    "    print(\"Initialized A = \",A_init)\n",
    "    print(\"Calculating rotation and translation\")\n",
    "    all_RT_init = getRotationAndTrans(A_init, all_H_init)\n",
    "    print(\"Init Kc\")\n",
    "    kc_init = np.array([0,0]).reshape(2,1)\n",
    "    print(\"Initialized kc = \", kc_init)\n",
    "\n",
    "    print(\"Optimizing ...\")\n",
    "    x0 = extractParamFromA(A_init, kc_init)\n",
    "    res = scipy.optimize.least_squares(fun=lossFunc, x0=x0, method=\"lm\", args=[all_RT_init, all_image_corners, world_corners])\n",
    "    x1 = res.x\n",
    "    AK = retrieveA(x1)\n",
    "    A_new = AK[0]\n",
    "    kc_new = AK[1]\n",
    "\n",
    "    previous_error, _ = reprojectPointsAndGetError(A_init, kc_init, all_RT_init, all_image_corners, world_corners)\n",
    "    att_RT_new = getRotationAndTrans(A_new, all_H_init)\n",
    "    new_error, points = reprojectPointsAndGetError(A_new, kc_new, att_RT_new, all_image_corners, world_corners)\n",
    "\n",
    "    print(\"The error befor optimization was \", previous_error)\n",
    "    print(\"The error after optimization is \", new_error)\n",
    "    print(\"The A matrix is: \", A_new)\n",
    "\n",
    "    K = np.array(A_new, np.float32).reshape(3,3)\n",
    "    D = np.array([kc_new[0],kc_new[1], 0, 0] , np.float32)\n",
    "    for i,image_points in enumerate(points):\n",
    "        image = cv2.undistort(images[i], K, D)\n",
    "        for point in image_points:\n",
    "            x = int(point[0])\n",
    "            y = int(point[1])\n",
    "            image = cv2.circle(image, (x, y), 5, (0, 0, 255), 3)\n",
    "        # cv2.imshow('frame', image)\n",
    "        filename = save_folder + str(i) + \"reproj.png\"\n",
    "        cv2.imwrite(filename, image)\n",
    "        # cv2.waitKey()\n",
    "\n",
    "    cv2.destroyAllWindows()"
   ]
  },
  {
   "cell_type": "code",
   "execution_count": null,
   "metadata": {},
   "outputs": [],
   "source": [
    "if __name__ == \"__main__\":\n",
    "    main()"
   ]
  },
  {
   "cell_type": "code",
   "execution_count": 5,
   "metadata": {},
   "outputs": [],
   "source": [
    "x0 = extractParamFromA(A_init, kc_init)\n",
    "res = scipy.optimize.least_squares(fun=lossFunc, x0=x0, method=\"lm\", args=[all_RT_init, all_image_corners, world_corners])\n",
    "x1 = res.x\n",
    "AK = retrieveA(x1)\n",
    "A_new = AK[0]\n",
    "kc_new = AK[1]\n",
    "\n",
    "previous_error, _ = reprojectPointsAndGetError(A_init, kc_init, all_RT_init, all_image_corners, world_corners)\n",
    "att_RT_new = getRotationAndTrans(A_new, all_H_init)\n",
    "new_error, points = reprojectPointsAndGetError(A_new, kc_new, att_RT_new, all_image_corners, world_corners)\n",
    "\n",
    "K = np.array(A_new, np.float32).reshape(3,3)\n",
    "D = np.array([kc_new[0],kc_new[1], 0, 0] , np.float32)\n",
    "for i,image_points in enumerate(points):\n",
    "    image = cv2.undistort(images[i], K, D)\n",
    "    for point in image_points:\n",
    "        x = int(point[0])\n",
    "        y = int(point[1])\n",
    "        image = cv2.circle(image, (x, y), 5, (0, 0, 255), 3)\n",
    "    cv2.imshow('frame', image)\n",
    "    filename = str(i) + \"reproj.png\"\n",
    "    cv2.imwrite(filename, image)\n",
    "    cv2.waitKey()\n",
    "\n",
    "cv2.destroyAllWindows()"
   ]
  },
  {
   "cell_type": "code",
   "execution_count": 8,
   "metadata": {},
   "outputs": [
    {
     "output_type": "execute_result",
     "data": {
      "text/plain": [
       "0.6976324290906062"
      ]
     },
     "metadata": {},
     "execution_count": 8
    }
   ],
   "source": [
    "\n",
    "reprojectPointsAndGetError(A_init, kc_init, all_RT_init, all_image_corners, world_corners)"
   ]
  },
  {
   "cell_type": "code",
   "execution_count": 7,
   "metadata": {},
   "outputs": [],
   "source": [
    "att_RT_new = getRotationAndTrans(A_new, all_H_init)\n",
    "error, points = reprojectPointsAndGetError(A_new, kc_new, att_RT_new, all_image_corners, world_corners)"
   ]
  },
  {
   "cell_type": "code",
   "execution_count": 13,
   "metadata": {},
   "outputs": [],
   "source": []
  },
  {
   "cell_type": "code",
   "execution_count": 15,
   "metadata": {},
   "outputs": [
    {
     "output_type": "stream",
     "name": "stdout",
     "text": [
      "Loading images from  /home/sakshi/courses/CMSC733/sakshi_hw1/Data/Calibration_Imgs\n"
     ]
    }
   ],
   "source": [
    "K = np.array(A_new, np.float32).reshape(3,3)\n",
    "D = np.array([kc_new[0],kc_new[1], 0, 0] , np.float32)\n",
    "for i,image_points in enumerate(points):\n",
    "    image = cv2.undistort(images[i], K, D)\n",
    "    for point in image_points:\n",
    "        x = int(point[0])\n",
    "        y = int(point[1])\n",
    "        image = cv2.circle(image, (x, y), 5, (0, 0, 255), 3)\n",
    "    cv2.imshow('frame', image)\n",
    "    filename = str(i) + \"reproj.png\"\n",
    "    cv2.imwrite(filename, image)\n",
    "    cv2.waitKey()\n",
    "\n",
    "cv2.destroyAllWindows()"
   ]
  },
  {
   "cell_type": "code",
   "execution_count": null,
   "metadata": {},
   "outputs": [],
   "source": [
    "\n"
   ]
  }
 ]
}