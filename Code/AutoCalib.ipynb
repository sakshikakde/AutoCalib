{
 "metadata": {
  "language_info": {
   "codemirror_mode": {
    "name": "ipython",
    "version": 3
   },
   "file_extension": ".py",
   "mimetype": "text/x-python",
   "name": "python",
   "nbconvert_exporter": "python",
   "pygments_lexer": "ipython3",
   "version": "3.6.9"
  },
  "orig_nbformat": 2,
  "kernelspec": {
   "name": "python3",
   "display_name": "Python 3",
   "language": "python"
  }
 },
 "nbformat": 4,
 "nbformat_minor": 2,
 "cells": [
  {
   "cell_type": "code",
   "execution_count": 1,
   "metadata": {},
   "outputs": [],
   "source": [
    "import numpy as np\n",
    "import cv2\n",
    "import scipy\n",
    "import matplotlib.pyplot as plt\n",
    "import math\n",
    "import os\n",
    "from Utils.MiscUtils import *\n",
    "from Utils.ImageUtils import *\n",
    "from Utils.MathUtils import *\n",
    "import scipy.optimize \n",
    "square_side = 12.5\n"
   ]
  },
  {
   "cell_type": "code",
   "execution_count": 2,
   "metadata": {},
   "outputs": [],
   "source": [
    "def getRotationAndTrans(A, all_H):\n",
    "    all_RT = []\n",
    "    for H in all_H:\n",
    "        h1 = H[:, 0]\n",
    "        h2 = H[:, 1]\n",
    "        h3 = H[:, 2]\n",
    "        lamb = np.linalg.norm(np.dot(np.linalg.inv(A), h1), 2)\n",
    "\n",
    "        r1 = np.dot(np.linalg.inv(A), h1) / lamb\n",
    "        r2 = np.dot(np.linalg.inv(A), h2) / lamb\n",
    "        r3 = np.cross(r1, r2)\n",
    "        t = np.dot(np.linalg.inv(A), h3) / lamb\n",
    "        RT = np.vstack((r1, r2, r3, t)).T\n",
    "        all_RT.append(RT)\n",
    "\n",
    "    return all_RT        "
   ]
  },
  {
   "cell_type": "code",
   "execution_count": 3,
   "metadata": {},
   "outputs": [],
   "source": [
    "def extractParamFromA(init_A, init_kc):\n",
    "    alpha = init_A[0,0]\n",
    "    gamma = init_A[0,1]\n",
    "    beta = init_A[1,1]\n",
    "    u0 = init_A[0,2]\n",
    "    v0 = init_A[1,2]\n",
    "    k1 = init_kc[0]\n",
    "    k2 = init_kc[1]\n",
    "\n",
    "    x0 = np.array([alpha, gamma, beta, u0, v0, k1, k2])\n",
    "    return x0"
   ]
  },
  {
   "cell_type": "code",
   "execution_count": 4,
   "metadata": {},
   "outputs": [],
   "source": [
    "def retrieveA(x0):\n",
    "    alpha, gamma, beta, u0, v0, k1, k2 = x0\n",
    "    A = np.array([[alpha, gamma, u0], [0, beta, v0], [0, 0, 1]]).reshape(3,3)\n",
    "    kc = np.array([k1, k2]).reshape(2,1)\n",
    "    return A, kc\n"
   ]
  },
  {
   "cell_type": "code",
   "execution_count": 5,
   "metadata": {},
   "outputs": [],
   "source": [
    "def lossFunc(x0, init_all_RT, all_image_corners, world_corners):\n",
    "\n",
    "    A, kc = retrieveA(x0)\n",
    "    alpha, gamma, beta, u0, v0, k1, k2 = x0\n",
    "\n",
    "    error_mat = []\n",
    "\n",
    "    for i, image_corners in enumerate(all_image_corners): # for all images\n",
    "\n",
    "        #RT for 3d world points\n",
    "        RT = init_all_RT[i]\n",
    "        #get ART for 2d world points\n",
    "        RT3 = np.array([RT[:,0], RT[:,1], RT[:,3]]).reshape(3,3) #review\n",
    "        RT3 = RT3.T\n",
    "        ART3 = np.dot(A, RT3)\n",
    "\n",
    "        image_total_error = 0\n",
    "\n",
    "        for j in range(world_corners.shape[0]):\n",
    "\n",
    "            world_point_2d = world_corners[j]\n",
    "            world_point_2d_homo = np.array([world_point_2d[0], world_point_2d[1], 1]).reshape(3,1)\n",
    "            world_point_3d_homo = np.array([world_point_2d[0], world_point_2d[1], 0, 1]).reshape(4,1)\n",
    "\n",
    "            #get radius of distortion\n",
    "            XYZ = np.dot(RT, world_point_3d_homo)\n",
    "            x =  XYZ[0] / XYZ[2]\n",
    "            y = XYZ[1] / XYZ[2]\n",
    "            # x = alpha * XYZ[0] / XYZ[2] #assume gamma as 0 \n",
    "            # y = beta * XYZ[1] / XYZ[2] #assume gamma as 0\n",
    "            r = np.sqrt(x**2 + y**2) #radius of distortion\n",
    "\n",
    "            #observed image co-ordinates\n",
    "            mij = image_corners[j]\n",
    "            mij = np.array([mij[0], mij[1], 1], dtype = 'float').reshape(3,1)\n",
    "\n",
    "            #projected image co-ordinates\n",
    "            uvw = np.dot(ART3, world_point_2d_homo)\n",
    "            u = uvw[0] / uvw[2]\n",
    "            v = uvw[1] / uvw[2]\n",
    "\n",
    "            u_dash = u + (u - u0) * (k1 * r**2 + k2 * r**4)\n",
    "            v_dash = v + (v - v0) * (k1 * r**2 + k2 * r**4)\n",
    "\n",
    "            mij_dash = np.array([u_dash, v_dash, 1], dtype = 'float').reshape(3,1)\n",
    "\n",
    "            #get error\n",
    "            e = np.linalg.norm((mij - mij_dash), ord=2)\n",
    "            image_total_error = image_total_error + e\n",
    "\n",
    "        error_mat.append(image_total_error)\n",
    "    \n",
    "    return np.array(error_mat)\n",
    "        "
   ]
  },
  {
   "cell_type": "code",
   "execution_count": 6,
   "metadata": {},
   "outputs": [
    {
     "output_type": "stream",
     "name": "stdout",
     "text": [
      "Loading images from  /home/sakshi/courses/CMSC733/sakshi_hw1/Data/Calibration_Imgs\n",
      "Calculating H for %d images 13\n",
      "Calculating B\n",
      "B matrix is  [-1.47821817e-07 -2.81891939e-10 -1.49419421e-07  1.12211956e-04\n",
      "  2.03206168e-04 -9.99999973e-01]\n",
      "Estimated B =  [[-1.47821817e-07 -2.81891939e-10  1.12211956e-04]\n",
      " [-2.81891939e-10 -1.49419421e-07  2.03206168e-04]\n",
      " [ 1.12211956e-04  2.03206168e-04 -9.99999973e-01]]\n",
      "Calculating A\n",
      "Estimated A =  [[ 2.07920199e+03 -3.94373138e+00  7.56512097e+02]\n",
      " [ 0.00000000e+00  2.06806034e+03  1.35854437e+03]\n",
      " [ 0.00000000e+00  0.00000000e+00  1.00000000e+00]]\n",
      "Calculating rotation and translation\n",
      "Init Kc\n"
     ]
    }
   ],
   "source": [
    "folder_name = \"/home/sakshi/courses/CMSC733/sakshi_hw1/Data/Calibration_Imgs\"\n",
    "images = loadImages(folder_name)\n",
    "\n",
    "all_corners = getImagesHomoPoints(images)\n",
    "displayCorners(images, all_corners)\n",
    "\n",
    "print(\"Calculating H for %d images\", len(images))\n",
    "all_H = getAllH(all_corners, square_side)\n",
    "print(\"Calculating B\")\n",
    "B = getB(all_H)\n",
    "print(\"Estimated B = \", B)\n",
    "print(\"Calculating A\")\n",
    "A = getA(B)\n",
    "print(\"Estimated A = \",A)\n",
    "print(\"Calculating rotation and translation\")\n",
    "all_RT = getRotationAndTrans(A, all_H)\n",
    "print(\"Init Kc\")\n",
    "kc = np.array([0,0]).reshape(2,1)\n",
    "\n"
   ]
  },
  {
   "cell_type": "code",
   "execution_count": 16,
   "metadata": {},
   "outputs": [],
   "source": [
    "x0 = extractParamFromA(A, kc)\n",
    "world_corners = getWorldPoints(square_side)\n",
    "kc = np.array([1, 1]).reshape(2,1)"
   ]
  },
  {
   "cell_type": "code",
   "execution_count": 17,
   "metadata": {},
   "outputs": [],
   "source": [
    "res = scipy.optimize.least_squares(fun=lossFunc, x0=x0, method=\"lm\", args=[all_RT, all_corners, world_corners])\n",
    "x1 = res.x"
   ]
  },
  {
   "cell_type": "code",
   "execution_count": 15,
   "metadata": {},
   "outputs": [
    {
     "output_type": "execute_result",
     "data": {
      "text/plain": [
       "(array([[ 2.07920199e+03, -3.94373138e+00,  7.56512097e+02],\n",
       "        [ 0.00000000e+00,  2.06806034e+03,  1.35854437e+03],\n",
       "        [ 0.00000000e+00,  0.00000000e+00,  1.00000000e+00]]),\n",
       " array([[0.],\n",
       "        [0.]]))"
      ]
     },
     "metadata": {},
     "execution_count": 15
    }
   ],
   "source": [
    "retrieveA(x1)"
   ]
  },
  {
   "cell_type": "code",
   "execution_count": 10,
   "metadata": {},
   "outputs": [
    {
     "output_type": "execute_result",
     "data": {
      "text/plain": [
       "(array([[ 2.07920199e+03, -3.94373138e+00,  7.56512097e+02],\n",
       "        [ 0.00000000e+00,  2.06806034e+03,  1.35854437e+03],\n",
       "        [ 0.00000000e+00,  0.00000000e+00,  1.00000000e+00]]),\n",
       " array([[0],\n",
       "        [0]]))"
      ]
     },
     "metadata": {},
     "execution_count": 10
    }
   ],
   "source": [
    "retrieveA(x0)"
   ]
  },
  {
   "cell_type": "code",
   "execution_count": 11,
   "metadata": {},
   "outputs": [
    {
     "output_type": "execute_result",
     "data": {
      "text/plain": [
       "array([36.31285821, 39.70058789, 67.7936188 , 26.48221224, 54.837745  ,\n",
       "       32.94590383, 52.54583402, 33.91290422, 46.77450363, 17.44010409,\n",
       "       39.85952894, 38.81430174, 37.00076977])"
      ]
     },
     "metadata": {},
     "execution_count": 11
    }
   ],
   "source": [
    "lossFunc(x0, all_RT, all_corners, world_corners)"
   ]
  },
  {
   "cell_type": "code",
   "execution_count": null,
   "metadata": {},
   "outputs": [],
   "source": []
  }
 ]
}