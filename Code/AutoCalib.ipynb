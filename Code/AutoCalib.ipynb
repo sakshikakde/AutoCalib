{
 "metadata": {
  "language_info": {
   "codemirror_mode": {
    "name": "ipython",
    "version": 3
   },
   "file_extension": ".py",
   "mimetype": "text/x-python",
   "name": "python",
   "nbconvert_exporter": "python",
   "pygments_lexer": "ipython3",
   "version": "3.6.9-final"
  },
  "orig_nbformat": 2,
  "kernelspec": {
   "name": "python3",
   "display_name": "Python 3.6.9 64-bit",
   "metadata": {
    "interpreter": {
     "hash": "31f2aee4e71d21fbe5cf8b01ff0e069b9275f58929596ceb00d14d90e3e16cd6"
    }
   }
  }
 },
 "nbformat": 4,
 "nbformat_minor": 2,
 "cells": [
  {
   "cell_type": "code",
   "execution_count": 1,
   "metadata": {},
   "outputs": [],
   "source": [
    "import numpy as np\n",
    "import cv2\n",
    "import scipy\n",
    "import matplotlib.pyplot as plt\n",
    "import math\n",
    "import os\n",
    "from Utils.MiscUtils import *\n",
    "from Utils.ImageUtils import *\n",
    "from Utils.MathUtils import *\n",
    "square_side = 12.5\n"
   ]
  },
  {
   "cell_type": "code",
   "execution_count": 4,
   "metadata": {},
   "outputs": [
    {
     "output_type": "stream",
     "name": "stdout",
     "text": [
      "Loading images from  /home/sakshi/courses/CMSC733/sakshi_hw1/Data/Calibration_Imgs\n"
     ]
    }
   ],
   "source": [
    "folder_name = \"/home/sakshi/courses/CMSC733/sakshi_hw1/Data/Calibration_Imgs\"\n",
    "images = loadImages(folder_name)"
   ]
  },
  {
   "cell_type": "code",
   "execution_count": 5,
   "metadata": {},
   "outputs": [],
   "source": [
    "all_corners = getImagesHomoPoints(images)\n",
    "displayCorners(images, all_corners)\n",
    "\n",
    "all_H = getAllH(all_corners, square_side)"
   ]
  }
 ]
}